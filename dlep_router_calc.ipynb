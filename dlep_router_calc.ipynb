{
 "cells": [
  {
   "cell_type": "code",
   "execution_count": 42,
   "metadata": {},
   "outputs": [
    {
     "name": "stdout",
     "output_type": "stream",
     "text": [
      "BW          : 61035\n",
      "Load        : 255\n",
      "Delay       : 6103\n",
      "Reliability : 255\n",
      "Metric      : 67138\n"
     ]
    }
   ],
   "source": [
    "#EIGRP (Enhanced Interior Gateway Routing Protocol)\n",
    "\n",
    "# Configuration parameters\n",
    "K1          = 1 \n",
    "K2          = 0 \n",
    "K3          = 1 \n",
    "K4          = 0\n",
    "K5          = 0\n",
    "\n",
    "link_load   = 100\n",
    "\n",
    "# DLEP reports \n",
    "current_data_rate     = 41943040   # The current data rate reported from the radio. \n",
    "                                   # EIGRP converts the value into kilobits per second. \n",
    "\n",
    "relative_link_quality = 100        # An opaque number that ranges from 0 to 100 \n",
    "                                   # is computed by the radio. \n",
    "\n",
    "resources             = 100        # A representation of resources, such as battery power, \n",
    "                                   # ranges from 0 to 100.\n",
    "\n",
    "# The current data rate reported from the radio. EIGRP converts the value into kilobits per second. \n",
    "BW          =  (256 * 10000000) / (current_data_rate / 1000)\n",
    "# \n",
    "Load        = ((255 * link_load) / 100) \n",
    "#\n",
    "Delay       = 256 * (1E10 / (current_data_rate / 1000)) * ((100 / relative_link_quality) / 1000) / 10\n",
    "# RLQ + Resources \n",
    "Reliability = (255 * relative_link_quality / 100) * (resources / 100)\n",
    "\n",
    "if K5 == 0:\n",
    "    metric = (K1 * BW + (K2 * BW) / (256 - Load) + K3 * Delay) \n",
    "else:\n",
    "    metric = ((K1 * BW + (K2 * BW) / (256 - Load) + K3 * Delay) * (K5 / (Reliability + K4)))  \n",
    "  \n",
    "\n",
    "print ('BW          : %d' % BW)\n",
    "print ('Load        : %d' % Load)\n",
    "print ('Delay       : %d' % Delay)\n",
    "print ('Reliability : %d' % Reliability)\n",
    "print ('Metric      : %d' % metric)\n",
    "\n"
   ]
  },
  {
   "cell_type": "code",
   "execution_count": 87,
   "metadata": {
    "scrolled": true
   },
   "outputs": [
    {
     "name": "stdout",
     "output_type": "stream",
     "text": [
      "OC          : 0\n",
      "BW          : 49152\n",
      "Latency     : 1\n",
      "Resources   : 0\n",
      "L2_Factor   : 0\n",
      "LinkCost    : 49153\n"
     ]
    }
   ],
   "source": [
    "#OSPF (Open Shortest Path First)\n",
    "\n",
    "# Configuration parameters\n",
    "bw_weight        = 100\n",
    "latency_weight   = 100\n",
    "resources_weight = 100\n",
    "l2_factor        = 100\n",
    "reference_bw     = 10**8\n",
    "\n",
    "# DLEP reports \n",
    "CDR       = 26214400\n",
    "MDR       = 104857600\n",
    "RESOURCES = 100\n",
    "RLQ       = 100\n",
    "Delay     = 1\n",
    "\n",
    "OC        = (reference_bw / (MDR*1000))\n",
    "BW        = (2**16 * (100 - (CDR * 100 / MDR)))/100\n",
    "Latency   = Delay\n",
    "Resources = ((100 - RESOURCES)**3 * 2**16 / 10**6)\n",
    "L2_Factor = ((100 - RLQ) * 2**16)/100\n",
    "\n",
    "LinkCost = OC + BW        * (bw_weight        / 100) \\\n",
    "              + Latency   * (latency_weight   / 100) \\\n",
    "              + Resources * (resources_weight / 100) \\\n",
    "              + L2_Factor * (l2_factor        / 100)\n",
    "\n",
    "print ('OC          : %d' % OC)\n",
    "print ('BW          : %d' % BW)\n",
    "print ('Latency     : %d' % Latency)\n",
    "print ('Resources   : %d' % Resources)\n",
    "print ('L2_Factor   : %d' % L2_Factor)\n",
    "\n",
    "print ('LinkCost    : %d' % LinkCost)\n"
   ]
  }
 ],
 "metadata": {
  "kernelspec": {
   "display_name": "Python 3",
   "language": "python",
   "name": "python3"
  },
  "language_info": {
   "codemirror_mode": {
    "name": "ipython",
    "version": 3
   },
   "file_extension": ".py",
   "mimetype": "text/x-python",
   "name": "python",
   "nbconvert_exporter": "python",
   "pygments_lexer": "ipython3",
   "version": "3.7.0"
  }
 },
 "nbformat": 4,
 "nbformat_minor": 2
}
